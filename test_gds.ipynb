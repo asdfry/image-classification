{
 "cells": [
  {
   "cell_type": "code",
   "execution_count": 2,
   "metadata": {},
   "outputs": [],
   "source": [
    "import cv2\n",
    "import os\n",
    "import numpy as np\n",
    "\n",
    "from PIL import Image\n",
    "from glob import glob"
   ]
  },
  {
   "cell_type": "code",
   "execution_count": 3,
   "metadata": {},
   "outputs": [
    {
     "name": "stdout",
     "output_type": "stream",
     "text": [
      "sd: 854 x 480\n",
      "hd: 1280 x 720\n",
      "fhd: 1920 x 1080\n",
      "qhd: 2560 x 1440\n",
      "uhd: 3840 x 2160\n"
     ]
    }
   ],
   "source": [
    "img_dir = \"/ontap/jsh/volume/datasets/imagenet-sample\"\n",
    "black_list = []\n",
    "resolutions = {\n",
    "    \"sd\": (854, 480),\n",
    "    \"hd\": (1280, 720),\n",
    "    \"fhd\": (1920, 1080),\n",
    "    \"qhd\": (2560, 1440),\n",
    "    \"uhd\": (3840, 2160),\n",
    "}\n",
    "\n",
    "for res in resolutions.keys():\n",
    "    h = 0\n",
    "    w = 0\n",
    "    img_cnt = 0\n",
    "    npy_dir = f\"/ontap/jsh/volume/datasets/imagenet-sample-numpy-{res}\"\n",
    "\n",
    "    for tv in [\"train\", \"val\"]:\n",
    "        labels = []\n",
    "        os.makedirs(f\"{npy_dir}/{tv}\", exist_ok=True)\n",
    "\n",
    "        for idx, img_path in enumerate(glob(f\"{img_dir}/{tv}/**/*.JPEG\")):\n",
    "            if img_path in black_list:\n",
    "                continue\n",
    "\n",
    "            # Read image\n",
    "            img = cv2.imread(img_path)\n",
    "\n",
    "            # Upsacle image\n",
    "            upscaled_img = cv2.resize(\n",
    "                img,\n",
    "                dsize=(resolutions[res][0], resolutions[res][1]),\n",
    "                interpolation=cv2.INTER_LINEAR,\n",
    "            )\n",
    "\n",
    "            # Image to array\n",
    "            img_array = np.asarray(upscaled_img)\n",
    "            # img_array = np.moveaxis(img_array, -1, 0)  # fn.crop_mirror_normalize 인자로 output_layout=\"CHW\"를 주면 됨\n",
    "            # 흑백 이미지 or 가로 또는 세로가 224 미만인 이미지 스킵\n",
    "            if len(img_array.shape) == 2 or img_array.shape[0] < 224 or img_array.shape[1] < 224:\n",
    "                black_list.append(img_path)\n",
    "                continue\n",
    "            file = img_path.split(\"/\")[-1]\n",
    "            file = file.replace(\"JPEG\", \"image.npy\")\n",
    "            np.save(f\"{npy_dir}/{tv}/{file}\", img_array)\n",
    "\n",
    "            # Label\n",
    "            label = img_path.split(\"/\")[-2]\n",
    "            if not label in labels:\n",
    "                labels.append(label)\n",
    "            file = file.replace(\"image.npy\", \"label.npy\")\n",
    "            np.save(f\"{npy_dir}/{tv}/{file}\", np.array([len(labels)]))\n",
    "\n",
    "            # For calculate resolution\n",
    "            h += img_array.shape[0]\n",
    "            w += img_array.shape[1]\n",
    "            img_cnt += 1\n",
    "\n",
    "    print(f\"{res}: {int(w/img_cnt)} x {int(h/img_cnt)}\")"
   ]
  },
  {
   "cell_type": "code",
   "execution_count": 1,
   "metadata": {},
   "outputs": [],
   "source": [
    "import time\n",
    "from nvidia.dali import pipeline_def, fn"
   ]
  },
  {
   "cell_type": "code",
   "execution_count": 2,
   "metadata": {},
   "outputs": [
    {
     "name": "stdout",
     "output_type": "stream",
     "text": [
      "elapsed time [gpu-train-1]: 10.803786516189575\n",
      "elapsed time [gpu-val-1]: 0.39374303817749023\n",
      "elapsed time [cpu-train-1]: 9.387659311294556\n",
      "elapsed time [cpu-val-1]: 0.37669920921325684\n"
     ]
    }
   ],
   "source": [
    "@pipeline_def(batch_size=1, num_threads=3, device_id=0)\n",
    "def create_pipe(device, tv):\n",
    "    images = fn.readers.numpy(\n",
    "        device=device,\n",
    "        file_root=f\"/gpfs/jsh/volume/datasets/imagenet-sample-numpy/{tv}\",\n",
    "        file_filter=\"*.image.npy\",\n",
    "        name=\"ImageReader\",\n",
    "    )\n",
    "    labels = fn.readers.numpy(\n",
    "        device=device,\n",
    "        file_root=f\"/gpfs/jsh/volume/datasets/imagenet-sample-numpy/{tv}\",\n",
    "        file_filter=\"*.label.npy\",\n",
    "        name=\"LabelReader\",\n",
    "    )\n",
    "    return images, labels\n",
    "\n",
    "\n",
    "def run_pipe(device, tv, idx):\n",
    "    pipe = create_pipe(device, tv)\n",
    "    pipe.build()\n",
    "    data_size = list(pipe.epoch_size().values())[0]\n",
    "    start_time = time.time()\n",
    "    for _ in range(data_size):\n",
    "        pipe_out = pipe.run()\n",
    "        # if device ==\"cpu\":\n",
    "        #     img = pipe_out[0].as_array()\n",
    "        #     label = pipe_out[1].as_array()\n",
    "        # else:\n",
    "        #     img = pipe_out[0].as_cpu().as_array()\n",
    "        #     label = pipe_out[1].as_cpu().as_array()\n",
    "    print(f\"elapsed time [{device}-{tv}-{idx+1}]: {time.time() - start_time}\")\n",
    "\n",
    "\n",
    "for idx in range(1):\n",
    "    device = \"gpu\"\n",
    "    tv = \"train\"\n",
    "    run_pipe(device, tv, idx)\n",
    "    tv = \"val\"\n",
    "    run_pipe(device, tv, idx)\n",
    "\n",
    "    device = \"cpu\"\n",
    "    tv = \"train\"\n",
    "    run_pipe(device, tv, idx)\n",
    "    tv = \"val\"\n",
    "    run_pipe(device, tv, idx)"
   ]
  },
  {
   "cell_type": "code",
   "execution_count": 3,
   "metadata": {},
   "outputs": [
    {
     "name": "stdout",
     "output_type": "stream",
     "text": [
      "elapsed time [gpu-train-1]: 10.365849256515503\n",
      "elapsed time [gpu-val-1]: 0.7734766006469727\n",
      "elapsed time [cpu-train-1]: 3.832213878631592\n",
      "elapsed time [cpu-val-1]: 0.15192127227783203\n"
     ]
    }
   ],
   "source": [
    "@pipeline_def(batch_size=1, num_threads=3, device_id=0)\n",
    "def create_pipe(device, tv):\n",
    "    images = fn.readers.numpy(\n",
    "        device=device,\n",
    "        file_root=f\"/ontap/jsh/volume/datasets/imagenet-sample-numpy/{tv}\",\n",
    "        file_filter=\"*.image.npy\",\n",
    "        name=\"ImageReader\",\n",
    "    )\n",
    "    labels = fn.readers.numpy(\n",
    "        device=device,\n",
    "        file_root=f\"/ontap/jsh/volume/datasets/imagenet-sample-numpy/{tv}\",\n",
    "        file_filter=\"*.label.npy\",\n",
    "        name=\"LabelReader\",\n",
    "    )\n",
    "    return images, labels\n",
    "\n",
    "\n",
    "def run_pipe(device, tv, idx):\n",
    "    pipe = create_pipe(device, tv)\n",
    "    pipe.build()\n",
    "    data_size = list(pipe.epoch_size().values())[0]\n",
    "    start_time = time.time()\n",
    "    for _ in range(data_size):\n",
    "        pipe_out = pipe.run()\n",
    "        # if device ==\"cpu\":\n",
    "        #     img = pipe_out[0].as_array()\n",
    "        #     label = pipe_out[1].as_array()\n",
    "        # else:\n",
    "        #     img = pipe_out[0].as_cpu().as_array()\n",
    "        #     label = pipe_out[1].as_cpu().as_array()\n",
    "    print(f\"elapsed time [{device}-{tv}-{idx+1}]: {time.time() - start_time}\")\n",
    "\n",
    "\n",
    "for idx in range(1):\n",
    "    device = \"gpu\"\n",
    "    tv = \"train\"\n",
    "    run_pipe(device, tv, idx)\n",
    "    tv = \"val\"\n",
    "    run_pipe(device, tv, idx)\n",
    "\n",
    "    device = \"cpu\"\n",
    "    tv = \"train\"\n",
    "    run_pipe(device, tv, idx)\n",
    "    tv = \"val\"\n",
    "    run_pipe(device, tv, idx)"
   ]
  }
 ],
 "metadata": {
  "kernelspec": {
   "display_name": "Python 3",
   "language": "python",
   "name": "python3"
  },
  "language_info": {
   "codemirror_mode": {
    "name": "ipython",
    "version": 3
   },
   "file_extension": ".py",
   "mimetype": "text/x-python",
   "name": "python",
   "nbconvert_exporter": "python",
   "pygments_lexer": "ipython3",
   "version": "3.10.12"
  }
 },
 "nbformat": 4,
 "nbformat_minor": 2
}
