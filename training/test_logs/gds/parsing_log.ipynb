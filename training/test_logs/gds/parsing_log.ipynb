{
 "cells": [
  {
   "cell_type": "code",
   "execution_count": 1,
   "metadata": {},
   "outputs": [],
   "source": [
    "import re\n",
    "import pandas as pd\n",
    "import plotly.express as px\n",
    "\n",
    "from glob import glob"
   ]
  },
  {
   "cell_type": "code",
   "execution_count": 2,
   "metadata": {},
   "outputs": [],
   "source": [
    "pt_time = re.compile(r\"Done epoch (\\d): Time (\\d+\\.\\d+)\")\n",
    "pt_node = re.compile(r\"node(\\d+)\")\n",
    "pt_storage = re.compile(r\"ontap|gpfs\")\n",
    "pt_gds = re.compile(r\"gds(\\d)\")\n",
    "pt_reader = re.compile(r\"cpu|gpu\")\n",
    "pt_resolution = re.compile(r\"sd|hd|fhd|qhd|uhd\")"
   ]
  },
  {
   "cell_type": "code",
   "execution_count": 3,
   "metadata": {},
   "outputs": [],
   "source": [
    "logs = sorted(glob(\"./logs/**/torch.log\"))\n",
    "rows = []\n",
    "resolutions = {\n",
    "    \"SD\": (854, 480),\n",
    "    \"HD\": (1280, 720),\n",
    "    \"FHD\": (1920, 1080),\n",
    "    \"QHD\": (2560, 1440),\n",
    "    \"UHD\": (3840, 2160),\n",
    "}\n",
    "\n",
    "for log in logs:\n",
    "    with open(log, \"r\") as f:\n",
    "        lines = f.readlines()\n",
    "\n",
    "    time_per_epoch = {1: 0, 2: 0, 3: 0, 4: 0, 5: 0}\n",
    "    for line in lines:\n",
    "        sh_time = pt_time.search(line)\n",
    "        if sh_time:\n",
    "            time_per_epoch[int(sh_time.group(1))] = float(sh_time.group(2))\n",
    "\n",
    "    node_num = int(pt_node.search(log).group(1))\n",
    "    if node_num == 4:\n",
    "        gpus = \"A100 * 4\"\n",
    "    if node_num == 5:\n",
    "        gpus = \"H100 * 8\"\n",
    "    elif node_num == 7:\n",
    "        gpus = \"L40 * 4\"\n",
    "    elif node_num == 8:\n",
    "        gpus = \"A40 * 4\"\n",
    "    elif node_num == 9:\n",
    "        gpus = \"L4 * 4\"\n",
    "\n",
    "    try:\n",
    "        gds = int(pt_gds.search(log).group(1))\n",
    "        gds = \"ON\" if gds else \"OFF\"\n",
    "    except:\n",
    "        gds = \"OFF\"\n",
    "\n",
    "    rows.append(\n",
    "        {\n",
    "            \"gpus\": gpus,\n",
    "            \"storage\": pt_storage.search(log).group(0).upper(),\n",
    "            \"resolution\": pt_resolution.search(log).group(0).upper(),\n",
    "            \"reader\": pt_reader.search(log).group(0).upper(),\n",
    "            \"gds\": gds,\n",
    "            \"epoch_1\": round(time_per_epoch[1], 2),\n",
    "            \"epoch_2\": round(time_per_epoch[2], 2),\n",
    "            \"epoch_3\": round(time_per_epoch[3], 2),\n",
    "            \"epoch_4\": round(time_per_epoch[4], 2),\n",
    "            \"epoch_5\": round(time_per_epoch[5], 2),\n",
    "        }\n",
    "    )"
   ]
  },
  {
   "cell_type": "code",
   "execution_count": 4,
   "metadata": {},
   "outputs": [
    {
     "data": {
      "text/html": [
       "<div>\n",
       "<style scoped>\n",
       "    .dataframe tbody tr th:only-of-type {\n",
       "        vertical-align: middle;\n",
       "    }\n",
       "\n",
       "    .dataframe tbody tr th {\n",
       "        vertical-align: top;\n",
       "    }\n",
       "\n",
       "    .dataframe thead th {\n",
       "        text-align: right;\n",
       "    }\n",
       "</style>\n",
       "<table border=\"1\" class=\"dataframe\">\n",
       "  <thead>\n",
       "    <tr style=\"text-align: right;\">\n",
       "      <th></th>\n",
       "      <th>gpus</th>\n",
       "      <th>storage</th>\n",
       "      <th>resolution</th>\n",
       "      <th>reader</th>\n",
       "      <th>gds</th>\n",
       "      <th>epoch_1</th>\n",
       "      <th>epoch_2</th>\n",
       "      <th>epoch_3</th>\n",
       "      <th>epoch_4</th>\n",
       "      <th>epoch_5</th>\n",
       "      <th>mean</th>\n",
       "      <th>standard_deviation</th>\n",
       "    </tr>\n",
       "  </thead>\n",
       "  <tbody>\n",
       "    <tr>\n",
       "      <th>0</th>\n",
       "      <td>H100 * 8</td>\n",
       "      <td>GPFS</td>\n",
       "      <td>SD</td>\n",
       "      <td>CPU</td>\n",
       "      <td>OFF</td>\n",
       "      <td>120.84</td>\n",
       "      <td>84.35</td>\n",
       "      <td>78.90</td>\n",
       "      <td>80.12</td>\n",
       "      <td>79.86</td>\n",
       "      <td>88.814</td>\n",
       "      <td>18.025</td>\n",
       "    </tr>\n",
       "    <tr>\n",
       "      <th>1</th>\n",
       "      <td>H100 * 8</td>\n",
       "      <td>GPFS</td>\n",
       "      <td>SD</td>\n",
       "      <td>GPU</td>\n",
       "      <td>OFF</td>\n",
       "      <td>191.50</td>\n",
       "      <td>116.54</td>\n",
       "      <td>128.31</td>\n",
       "      <td>219.65</td>\n",
       "      <td>221.84</td>\n",
       "      <td>175.568</td>\n",
       "      <td>50.139</td>\n",
       "    </tr>\n",
       "    <tr>\n",
       "      <th>2</th>\n",
       "      <td>H100 * 8</td>\n",
       "      <td>GPFS</td>\n",
       "      <td>SD</td>\n",
       "      <td>GPU</td>\n",
       "      <td>ON</td>\n",
       "      <td>255.81</td>\n",
       "      <td>255.92</td>\n",
       "      <td>265.56</td>\n",
       "      <td>263.23</td>\n",
       "      <td>271.93</td>\n",
       "      <td>262.490</td>\n",
       "      <td>6.835</td>\n",
       "    </tr>\n",
       "    <tr>\n",
       "      <th>3</th>\n",
       "      <td>H100 * 8</td>\n",
       "      <td>GPFS</td>\n",
       "      <td>HD</td>\n",
       "      <td>CPU</td>\n",
       "      <td>OFF</td>\n",
       "      <td>200.68</td>\n",
       "      <td>181.92</td>\n",
       "      <td>182.50</td>\n",
       "      <td>192.37</td>\n",
       "      <td>187.52</td>\n",
       "      <td>188.998</td>\n",
       "      <td>7.784</td>\n",
       "    </tr>\n",
       "    <tr>\n",
       "      <th>4</th>\n",
       "      <td>H100 * 8</td>\n",
       "      <td>GPFS</td>\n",
       "      <td>HD</td>\n",
       "      <td>GPU</td>\n",
       "      <td>OFF</td>\n",
       "      <td>73.31</td>\n",
       "      <td>224.65</td>\n",
       "      <td>265.08</td>\n",
       "      <td>256.33</td>\n",
       "      <td>149.26</td>\n",
       "      <td>193.726</td>\n",
       "      <td>81.308</td>\n",
       "    </tr>\n",
       "    <tr>\n",
       "      <th>5</th>\n",
       "      <td>H100 * 8</td>\n",
       "      <td>GPFS</td>\n",
       "      <td>HD</td>\n",
       "      <td>GPU</td>\n",
       "      <td>ON</td>\n",
       "      <td>296.44</td>\n",
       "      <td>330.85</td>\n",
       "      <td>326.47</td>\n",
       "      <td>327.14</td>\n",
       "      <td>336.82</td>\n",
       "      <td>323.544</td>\n",
       "      <td>15.698</td>\n",
       "    </tr>\n",
       "    <tr>\n",
       "      <th>6</th>\n",
       "      <td>H100 * 8</td>\n",
       "      <td>GPFS</td>\n",
       "      <td>FHD</td>\n",
       "      <td>CPU</td>\n",
       "      <td>OFF</td>\n",
       "      <td>493.87</td>\n",
       "      <td>470.31</td>\n",
       "      <td>483.66</td>\n",
       "      <td>476.74</td>\n",
       "      <td>484.47</td>\n",
       "      <td>481.810</td>\n",
       "      <td>8.859</td>\n",
       "    </tr>\n",
       "    <tr>\n",
       "      <th>7</th>\n",
       "      <td>H100 * 8</td>\n",
       "      <td>GPFS</td>\n",
       "      <td>FHD</td>\n",
       "      <td>GPU</td>\n",
       "      <td>OFF</td>\n",
       "      <td>436.21</td>\n",
       "      <td>473.07</td>\n",
       "      <td>516.29</td>\n",
       "      <td>945.80</td>\n",
       "      <td>947.15</td>\n",
       "      <td>663.704</td>\n",
       "      <td>259.685</td>\n",
       "    </tr>\n",
       "    <tr>\n",
       "      <th>8</th>\n",
       "      <td>H100 * 8</td>\n",
       "      <td>GPFS</td>\n",
       "      <td>FHD</td>\n",
       "      <td>GPU</td>\n",
       "      <td>ON</td>\n",
       "      <td>531.62</td>\n",
       "      <td>546.71</td>\n",
       "      <td>537.00</td>\n",
       "      <td>533.16</td>\n",
       "      <td>552.11</td>\n",
       "      <td>540.120</td>\n",
       "      <td>8.911</td>\n",
       "    </tr>\n",
       "    <tr>\n",
       "      <th>9</th>\n",
       "      <td>H100 * 8</td>\n",
       "      <td>GPFS</td>\n",
       "      <td>QHD</td>\n",
       "      <td>CPU</td>\n",
       "      <td>OFF</td>\n",
       "      <td>725.09</td>\n",
       "      <td>725.26</td>\n",
       "      <td>728.91</td>\n",
       "      <td>726.10</td>\n",
       "      <td>721.36</td>\n",
       "      <td>725.344</td>\n",
       "      <td>2.703</td>\n",
       "    </tr>\n",
       "    <tr>\n",
       "      <th>10</th>\n",
       "      <td>H100 * 8</td>\n",
       "      <td>GPFS</td>\n",
       "      <td>QHD</td>\n",
       "      <td>GPU</td>\n",
       "      <td>OFF</td>\n",
       "      <td>1460.04</td>\n",
       "      <td>1525.37</td>\n",
       "      <td>1525.51</td>\n",
       "      <td>1525.01</td>\n",
       "      <td>1526.10</td>\n",
       "      <td>1512.406</td>\n",
       "      <td>29.276</td>\n",
       "    </tr>\n",
       "    <tr>\n",
       "      <th>11</th>\n",
       "      <td>H100 * 8</td>\n",
       "      <td>GPFS</td>\n",
       "      <td>QHD</td>\n",
       "      <td>GPU</td>\n",
       "      <td>ON</td>\n",
       "      <td>824.98</td>\n",
       "      <td>862.55</td>\n",
       "      <td>889.22</td>\n",
       "      <td>622.32</td>\n",
       "      <td>878.30</td>\n",
       "      <td>815.474</td>\n",
       "      <td>110.680</td>\n",
       "    </tr>\n",
       "    <tr>\n",
       "      <th>12</th>\n",
       "      <td>H100 * 8</td>\n",
       "      <td>GPFS</td>\n",
       "      <td>UHD</td>\n",
       "      <td>CPU</td>\n",
       "      <td>OFF</td>\n",
       "      <td>1520.53</td>\n",
       "      <td>1527.18</td>\n",
       "      <td>1529.22</td>\n",
       "      <td>1520.27</td>\n",
       "      <td>1517.40</td>\n",
       "      <td>1522.920</td>\n",
       "      <td>5.026</td>\n",
       "    </tr>\n",
       "    <tr>\n",
       "      <th>13</th>\n",
       "      <td>H100 * 8</td>\n",
       "      <td>GPFS</td>\n",
       "      <td>UHD</td>\n",
       "      <td>GPU</td>\n",
       "      <td>OFF</td>\n",
       "      <td>1979.06</td>\n",
       "      <td>2050.82</td>\n",
       "      <td>2048.06</td>\n",
       "      <td>2042.46</td>\n",
       "      <td>2042.27</td>\n",
       "      <td>2032.534</td>\n",
       "      <td>30.117</td>\n",
       "    </tr>\n",
       "    <tr>\n",
       "      <th>14</th>\n",
       "      <td>H100 * 8</td>\n",
       "      <td>GPFS</td>\n",
       "      <td>UHD</td>\n",
       "      <td>GPU</td>\n",
       "      <td>ON</td>\n",
       "      <td>1350.72</td>\n",
       "      <td>1358.67</td>\n",
       "      <td>1619.29</td>\n",
       "      <td>1528.88</td>\n",
       "      <td>1366.16</td>\n",
       "      <td>1444.744</td>\n",
       "      <td>122.444</td>\n",
       "    </tr>\n",
       "  </tbody>\n",
       "</table>\n",
       "</div>"
      ],
      "text/plain": [
       "        gpus storage resolution reader  gds  epoch_1  epoch_2  epoch_3  \\\n",
       "0   H100 * 8    GPFS         SD    CPU  OFF   120.84    84.35    78.90   \n",
       "1   H100 * 8    GPFS         SD    GPU  OFF   191.50   116.54   128.31   \n",
       "2   H100 * 8    GPFS         SD    GPU   ON   255.81   255.92   265.56   \n",
       "3   H100 * 8    GPFS         HD    CPU  OFF   200.68   181.92   182.50   \n",
       "4   H100 * 8    GPFS         HD    GPU  OFF    73.31   224.65   265.08   \n",
       "5   H100 * 8    GPFS         HD    GPU   ON   296.44   330.85   326.47   \n",
       "6   H100 * 8    GPFS        FHD    CPU  OFF   493.87   470.31   483.66   \n",
       "7   H100 * 8    GPFS        FHD    GPU  OFF   436.21   473.07   516.29   \n",
       "8   H100 * 8    GPFS        FHD    GPU   ON   531.62   546.71   537.00   \n",
       "9   H100 * 8    GPFS        QHD    CPU  OFF   725.09   725.26   728.91   \n",
       "10  H100 * 8    GPFS        QHD    GPU  OFF  1460.04  1525.37  1525.51   \n",
       "11  H100 * 8    GPFS        QHD    GPU   ON   824.98   862.55   889.22   \n",
       "12  H100 * 8    GPFS        UHD    CPU  OFF  1520.53  1527.18  1529.22   \n",
       "13  H100 * 8    GPFS        UHD    GPU  OFF  1979.06  2050.82  2048.06   \n",
       "14  H100 * 8    GPFS        UHD    GPU   ON  1350.72  1358.67  1619.29   \n",
       "\n",
       "    epoch_4  epoch_5      mean  standard_deviation  \n",
       "0     80.12    79.86    88.814              18.025  \n",
       "1    219.65   221.84   175.568              50.139  \n",
       "2    263.23   271.93   262.490               6.835  \n",
       "3    192.37   187.52   188.998               7.784  \n",
       "4    256.33   149.26   193.726              81.308  \n",
       "5    327.14   336.82   323.544              15.698  \n",
       "6    476.74   484.47   481.810               8.859  \n",
       "7    945.80   947.15   663.704             259.685  \n",
       "8    533.16   552.11   540.120               8.911  \n",
       "9    726.10   721.36   725.344               2.703  \n",
       "10  1525.01  1526.10  1512.406              29.276  \n",
       "11   622.32   878.30   815.474             110.680  \n",
       "12  1520.27  1517.40  1522.920               5.026  \n",
       "13  2042.46  2042.27  2032.534              30.117  \n",
       "14  1528.88  1366.16  1444.744             122.444  "
      ]
     },
     "execution_count": 4,
     "metadata": {},
     "output_type": "execute_result"
    }
   ],
   "source": [
    "df = pd.DataFrame(rows)\n",
    "df[\"resolution\"] = pd.Categorical(df[\"resolution\"], categories=resolutions.keys())\n",
    "df.sort_values(by=[\"resolution\"], ascending=[True], inplace=True)\n",
    "df.reset_index(drop=True, inplace=True)\n",
    "df[\"mean\"] = round(df.iloc[:, [5, 6, 7, 8, 9]].mean(axis=1), 3)\n",
    "df[\"standard_deviation\"] = round(df.iloc[:, [5, 6, 7, 8, 9]].std(axis=1), 3)\n",
    "df.to_csv(\"data_gds.csv\", index=False)\n",
    "df"
   ]
  },
  {
   "cell_type": "code",
   "execution_count": 16,
   "metadata": {},
   "outputs": [
    {
     "data": {
      "application/vnd.plotly.v1+json": {
       "config": {
        "plotlyServerURL": "https://plot.ly"
       },
       "data": [
        {
         "alignmentgroup": "True",
         "error_y": {
          "array": [
           18.025,
           7.784,
           8.859,
           2.703,
           5.026
          ]
         },
         "hovertemplate": "reader-gds=CPU-OFF<br>resolution=%{x}<br>elapsed time (sec)=%{y}<extra></extra>",
         "legendgroup": "CPU-OFF",
         "marker": {
          "color": "#636efa",
          "pattern": {
           "shape": ""
          }
         },
         "name": "CPU-OFF",
         "offsetgroup": "CPU-OFF",
         "orientation": "v",
         "showlegend": true,
         "textposition": "auto",
         "type": "bar",
         "x": [
          "SD",
          "HD",
          "FHD",
          "QHD",
          "UHD"
         ],
         "xaxis": "x",
         "y": [
          88.814,
          188.998,
          481.81,
          725.344,
          1522.92
         ],
         "yaxis": "y"
        },
        {
         "alignmentgroup": "True",
         "error_y": {
          "array": [
           50.139,
           81.308,
           259.685,
           29.276,
           30.117
          ]
         },
         "hovertemplate": "reader-gds=GPU-OFF<br>resolution=%{x}<br>elapsed time (sec)=%{y}<extra></extra>",
         "legendgroup": "GPU-OFF",
         "marker": {
          "color": "#EF553B",
          "pattern": {
           "shape": ""
          }
         },
         "name": "GPU-OFF",
         "offsetgroup": "GPU-OFF",
         "orientation": "v",
         "showlegend": true,
         "textposition": "auto",
         "type": "bar",
         "x": [
          "SD",
          "HD",
          "FHD",
          "QHD",
          "UHD"
         ],
         "xaxis": "x",
         "y": [
          175.568,
          193.726,
          663.704,
          1512.406,
          2032.534
         ],
         "yaxis": "y"
        },
        {
         "alignmentgroup": "True",
         "error_y": {
          "array": [
           6.835,
           15.698,
           8.911,
           110.68,
           122.444
          ]
         },
         "hovertemplate": "reader-gds=GPU-ON<br>resolution=%{x}<br>elapsed time (sec)=%{y}<extra></extra>",
         "legendgroup": "GPU-ON",
         "marker": {
          "color": "#00cc96",
          "pattern": {
           "shape": ""
          }
         },
         "name": "GPU-ON",
         "offsetgroup": "GPU-ON",
         "orientation": "v",
         "showlegend": true,
         "textposition": "auto",
         "type": "bar",
         "x": [
          "SD",
          "HD",
          "FHD",
          "QHD",
          "UHD"
         ],
         "xaxis": "x",
         "y": [
          262.49,
          323.544,
          540.12,
          815.474,
          1444.744
         ],
         "yaxis": "y"
        }
       ],
       "layout": {
        "barmode": "group",
        "legend": {
         "title": {
          "text": "reader-gds"
         },
         "tracegroupgap": 0
        },
        "margin": {
         "t": 60
        },
        "template": {
         "data": {
          "bar": [
           {
            "error_x": {
             "color": "#2a3f5f"
            },
            "error_y": {
             "color": "#2a3f5f"
            },
            "marker": {
             "line": {
              "color": "#E5ECF6",
              "width": 0.5
             },
             "pattern": {
              "fillmode": "overlay",
              "size": 10,
              "solidity": 0.2
             }
            },
            "type": "bar"
           }
          ],
          "barpolar": [
           {
            "marker": {
             "line": {
              "color": "#E5ECF6",
              "width": 0.5
             },
             "pattern": {
              "fillmode": "overlay",
              "size": 10,
              "solidity": 0.2
             }
            },
            "type": "barpolar"
           }
          ],
          "carpet": [
           {
            "aaxis": {
             "endlinecolor": "#2a3f5f",
             "gridcolor": "white",
             "linecolor": "white",
             "minorgridcolor": "white",
             "startlinecolor": "#2a3f5f"
            },
            "baxis": {
             "endlinecolor": "#2a3f5f",
             "gridcolor": "white",
             "linecolor": "white",
             "minorgridcolor": "white",
             "startlinecolor": "#2a3f5f"
            },
            "type": "carpet"
           }
          ],
          "choropleth": [
           {
            "colorbar": {
             "outlinewidth": 0,
             "ticks": ""
            },
            "type": "choropleth"
           }
          ],
          "contour": [
           {
            "colorbar": {
             "outlinewidth": 0,
             "ticks": ""
            },
            "colorscale": [
             [
              0,
              "#0d0887"
             ],
             [
              0.1111111111111111,
              "#46039f"
             ],
             [
              0.2222222222222222,
              "#7201a8"
             ],
             [
              0.3333333333333333,
              "#9c179e"
             ],
             [
              0.4444444444444444,
              "#bd3786"
             ],
             [
              0.5555555555555556,
              "#d8576b"
             ],
             [
              0.6666666666666666,
              "#ed7953"
             ],
             [
              0.7777777777777778,
              "#fb9f3a"
             ],
             [
              0.8888888888888888,
              "#fdca26"
             ],
             [
              1,
              "#f0f921"
             ]
            ],
            "type": "contour"
           }
          ],
          "contourcarpet": [
           {
            "colorbar": {
             "outlinewidth": 0,
             "ticks": ""
            },
            "type": "contourcarpet"
           }
          ],
          "heatmap": [
           {
            "colorbar": {
             "outlinewidth": 0,
             "ticks": ""
            },
            "colorscale": [
             [
              0,
              "#0d0887"
             ],
             [
              0.1111111111111111,
              "#46039f"
             ],
             [
              0.2222222222222222,
              "#7201a8"
             ],
             [
              0.3333333333333333,
              "#9c179e"
             ],
             [
              0.4444444444444444,
              "#bd3786"
             ],
             [
              0.5555555555555556,
              "#d8576b"
             ],
             [
              0.6666666666666666,
              "#ed7953"
             ],
             [
              0.7777777777777778,
              "#fb9f3a"
             ],
             [
              0.8888888888888888,
              "#fdca26"
             ],
             [
              1,
              "#f0f921"
             ]
            ],
            "type": "heatmap"
           }
          ],
          "heatmapgl": [
           {
            "colorbar": {
             "outlinewidth": 0,
             "ticks": ""
            },
            "colorscale": [
             [
              0,
              "#0d0887"
             ],
             [
              0.1111111111111111,
              "#46039f"
             ],
             [
              0.2222222222222222,
              "#7201a8"
             ],
             [
              0.3333333333333333,
              "#9c179e"
             ],
             [
              0.4444444444444444,
              "#bd3786"
             ],
             [
              0.5555555555555556,
              "#d8576b"
             ],
             [
              0.6666666666666666,
              "#ed7953"
             ],
             [
              0.7777777777777778,
              "#fb9f3a"
             ],
             [
              0.8888888888888888,
              "#fdca26"
             ],
             [
              1,
              "#f0f921"
             ]
            ],
            "type": "heatmapgl"
           }
          ],
          "histogram": [
           {
            "marker": {
             "pattern": {
              "fillmode": "overlay",
              "size": 10,
              "solidity": 0.2
             }
            },
            "type": "histogram"
           }
          ],
          "histogram2d": [
           {
            "colorbar": {
             "outlinewidth": 0,
             "ticks": ""
            },
            "colorscale": [
             [
              0,
              "#0d0887"
             ],
             [
              0.1111111111111111,
              "#46039f"
             ],
             [
              0.2222222222222222,
              "#7201a8"
             ],
             [
              0.3333333333333333,
              "#9c179e"
             ],
             [
              0.4444444444444444,
              "#bd3786"
             ],
             [
              0.5555555555555556,
              "#d8576b"
             ],
             [
              0.6666666666666666,
              "#ed7953"
             ],
             [
              0.7777777777777778,
              "#fb9f3a"
             ],
             [
              0.8888888888888888,
              "#fdca26"
             ],
             [
              1,
              "#f0f921"
             ]
            ],
            "type": "histogram2d"
           }
          ],
          "histogram2dcontour": [
           {
            "colorbar": {
             "outlinewidth": 0,
             "ticks": ""
            },
            "colorscale": [
             [
              0,
              "#0d0887"
             ],
             [
              0.1111111111111111,
              "#46039f"
             ],
             [
              0.2222222222222222,
              "#7201a8"
             ],
             [
              0.3333333333333333,
              "#9c179e"
             ],
             [
              0.4444444444444444,
              "#bd3786"
             ],
             [
              0.5555555555555556,
              "#d8576b"
             ],
             [
              0.6666666666666666,
              "#ed7953"
             ],
             [
              0.7777777777777778,
              "#fb9f3a"
             ],
             [
              0.8888888888888888,
              "#fdca26"
             ],
             [
              1,
              "#f0f921"
             ]
            ],
            "type": "histogram2dcontour"
           }
          ],
          "mesh3d": [
           {
            "colorbar": {
             "outlinewidth": 0,
             "ticks": ""
            },
            "type": "mesh3d"
           }
          ],
          "parcoords": [
           {
            "line": {
             "colorbar": {
              "outlinewidth": 0,
              "ticks": ""
             }
            },
            "type": "parcoords"
           }
          ],
          "pie": [
           {
            "automargin": true,
            "type": "pie"
           }
          ],
          "scatter": [
           {
            "fillpattern": {
             "fillmode": "overlay",
             "size": 10,
             "solidity": 0.2
            },
            "type": "scatter"
           }
          ],
          "scatter3d": [
           {
            "line": {
             "colorbar": {
              "outlinewidth": 0,
              "ticks": ""
             }
            },
            "marker": {
             "colorbar": {
              "outlinewidth": 0,
              "ticks": ""
             }
            },
            "type": "scatter3d"
           }
          ],
          "scattercarpet": [
           {
            "marker": {
             "colorbar": {
              "outlinewidth": 0,
              "ticks": ""
             }
            },
            "type": "scattercarpet"
           }
          ],
          "scattergeo": [
           {
            "marker": {
             "colorbar": {
              "outlinewidth": 0,
              "ticks": ""
             }
            },
            "type": "scattergeo"
           }
          ],
          "scattergl": [
           {
            "marker": {
             "colorbar": {
              "outlinewidth": 0,
              "ticks": ""
             }
            },
            "type": "scattergl"
           }
          ],
          "scattermapbox": [
           {
            "marker": {
             "colorbar": {
              "outlinewidth": 0,
              "ticks": ""
             }
            },
            "type": "scattermapbox"
           }
          ],
          "scatterpolar": [
           {
            "marker": {
             "colorbar": {
              "outlinewidth": 0,
              "ticks": ""
             }
            },
            "type": "scatterpolar"
           }
          ],
          "scatterpolargl": [
           {
            "marker": {
             "colorbar": {
              "outlinewidth": 0,
              "ticks": ""
             }
            },
            "type": "scatterpolargl"
           }
          ],
          "scatterternary": [
           {
            "marker": {
             "colorbar": {
              "outlinewidth": 0,
              "ticks": ""
             }
            },
            "type": "scatterternary"
           }
          ],
          "surface": [
           {
            "colorbar": {
             "outlinewidth": 0,
             "ticks": ""
            },
            "colorscale": [
             [
              0,
              "#0d0887"
             ],
             [
              0.1111111111111111,
              "#46039f"
             ],
             [
              0.2222222222222222,
              "#7201a8"
             ],
             [
              0.3333333333333333,
              "#9c179e"
             ],
             [
              0.4444444444444444,
              "#bd3786"
             ],
             [
              0.5555555555555556,
              "#d8576b"
             ],
             [
              0.6666666666666666,
              "#ed7953"
             ],
             [
              0.7777777777777778,
              "#fb9f3a"
             ],
             [
              0.8888888888888888,
              "#fdca26"
             ],
             [
              1,
              "#f0f921"
             ]
            ],
            "type": "surface"
           }
          ],
          "table": [
           {
            "cells": {
             "fill": {
              "color": "#EBF0F8"
             },
             "line": {
              "color": "white"
             }
            },
            "header": {
             "fill": {
              "color": "#C8D4E3"
             },
             "line": {
              "color": "white"
             }
            },
            "type": "table"
           }
          ]
         },
         "layout": {
          "annotationdefaults": {
           "arrowcolor": "#2a3f5f",
           "arrowhead": 0,
           "arrowwidth": 1
          },
          "autotypenumbers": "strict",
          "coloraxis": {
           "colorbar": {
            "outlinewidth": 0,
            "ticks": ""
           }
          },
          "colorscale": {
           "diverging": [
            [
             0,
             "#8e0152"
            ],
            [
             0.1,
             "#c51b7d"
            ],
            [
             0.2,
             "#de77ae"
            ],
            [
             0.3,
             "#f1b6da"
            ],
            [
             0.4,
             "#fde0ef"
            ],
            [
             0.5,
             "#f7f7f7"
            ],
            [
             0.6,
             "#e6f5d0"
            ],
            [
             0.7,
             "#b8e186"
            ],
            [
             0.8,
             "#7fbc41"
            ],
            [
             0.9,
             "#4d9221"
            ],
            [
             1,
             "#276419"
            ]
           ],
           "sequential": [
            [
             0,
             "#0d0887"
            ],
            [
             0.1111111111111111,
             "#46039f"
            ],
            [
             0.2222222222222222,
             "#7201a8"
            ],
            [
             0.3333333333333333,
             "#9c179e"
            ],
            [
             0.4444444444444444,
             "#bd3786"
            ],
            [
             0.5555555555555556,
             "#d8576b"
            ],
            [
             0.6666666666666666,
             "#ed7953"
            ],
            [
             0.7777777777777778,
             "#fb9f3a"
            ],
            [
             0.8888888888888888,
             "#fdca26"
            ],
            [
             1,
             "#f0f921"
            ]
           ],
           "sequentialminus": [
            [
             0,
             "#0d0887"
            ],
            [
             0.1111111111111111,
             "#46039f"
            ],
            [
             0.2222222222222222,
             "#7201a8"
            ],
            [
             0.3333333333333333,
             "#9c179e"
            ],
            [
             0.4444444444444444,
             "#bd3786"
            ],
            [
             0.5555555555555556,
             "#d8576b"
            ],
            [
             0.6666666666666666,
             "#ed7953"
            ],
            [
             0.7777777777777778,
             "#fb9f3a"
            ],
            [
             0.8888888888888888,
             "#fdca26"
            ],
            [
             1,
             "#f0f921"
            ]
           ]
          },
          "colorway": [
           "#636efa",
           "#EF553B",
           "#00cc96",
           "#ab63fa",
           "#FFA15A",
           "#19d3f3",
           "#FF6692",
           "#B6E880",
           "#FF97FF",
           "#FECB52"
          ],
          "font": {
           "color": "#2a3f5f"
          },
          "geo": {
           "bgcolor": "white",
           "lakecolor": "white",
           "landcolor": "#E5ECF6",
           "showlakes": true,
           "showland": true,
           "subunitcolor": "white"
          },
          "hoverlabel": {
           "align": "left"
          },
          "hovermode": "closest",
          "mapbox": {
           "style": "light"
          },
          "paper_bgcolor": "white",
          "plot_bgcolor": "#E5ECF6",
          "polar": {
           "angularaxis": {
            "gridcolor": "white",
            "linecolor": "white",
            "ticks": ""
           },
           "bgcolor": "#E5ECF6",
           "radialaxis": {
            "gridcolor": "white",
            "linecolor": "white",
            "ticks": ""
           }
          },
          "scene": {
           "xaxis": {
            "backgroundcolor": "#E5ECF6",
            "gridcolor": "white",
            "gridwidth": 2,
            "linecolor": "white",
            "showbackground": true,
            "ticks": "",
            "zerolinecolor": "white"
           },
           "yaxis": {
            "backgroundcolor": "#E5ECF6",
            "gridcolor": "white",
            "gridwidth": 2,
            "linecolor": "white",
            "showbackground": true,
            "ticks": "",
            "zerolinecolor": "white"
           },
           "zaxis": {
            "backgroundcolor": "#E5ECF6",
            "gridcolor": "white",
            "gridwidth": 2,
            "linecolor": "white",
            "showbackground": true,
            "ticks": "",
            "zerolinecolor": "white"
           }
          },
          "shapedefaults": {
           "line": {
            "color": "#2a3f5f"
           }
          },
          "ternary": {
           "aaxis": {
            "gridcolor": "white",
            "linecolor": "white",
            "ticks": ""
           },
           "baxis": {
            "gridcolor": "white",
            "linecolor": "white",
            "ticks": ""
           },
           "bgcolor": "#E5ECF6",
           "caxis": {
            "gridcolor": "white",
            "linecolor": "white",
            "ticks": ""
           }
          },
          "title": {
           "x": 0.05
          },
          "xaxis": {
           "automargin": true,
           "gridcolor": "white",
           "linecolor": "white",
           "ticks": "",
           "title": {
            "standoff": 15
           },
           "zerolinecolor": "white",
           "zerolinewidth": 2
          },
          "yaxis": {
           "automargin": true,
           "gridcolor": "white",
           "linecolor": "white",
           "ticks": "",
           "title": {
            "standoff": 15
           },
           "zerolinecolor": "white",
           "zerolinewidth": 2
          }
         }
        },
        "xaxis": {
         "anchor": "y",
         "domain": [
          0,
          1
         ],
         "title": {
          "text": "resolution"
         }
        },
        "yaxis": {
         "anchor": "x",
         "domain": [
          0,
          1
         ],
         "title": {
          "text": "elapsed time (sec)"
         }
        }
       }
      },
      "text/html": [
       "<div>                            <div id=\"32e78964-fe9a-4776-a3ff-42d572cf304f\" class=\"plotly-graph-div\" style=\"height:525px; width:100%;\"></div>            <script type=\"text/javascript\">                require([\"plotly\"], function(Plotly) {                    window.PLOTLYENV=window.PLOTLYENV || {};                                    if (document.getElementById(\"32e78964-fe9a-4776-a3ff-42d572cf304f\")) {                    Plotly.newPlot(                        \"32e78964-fe9a-4776-a3ff-42d572cf304f\",                        [{\"alignmentgroup\":\"True\",\"error_y\":{\"array\":[18.025,7.784,8.859,2.703,5.026]},\"hovertemplate\":\"reader-gds=CPU-OFF\\u003cbr\\u003eresolution=%{x}\\u003cbr\\u003eelapsed time (sec)=%{y}\\u003cextra\\u003e\\u003c\\u002fextra\\u003e\",\"legendgroup\":\"CPU-OFF\",\"marker\":{\"color\":\"#636efa\",\"pattern\":{\"shape\":\"\"}},\"name\":\"CPU-OFF\",\"offsetgroup\":\"CPU-OFF\",\"orientation\":\"v\",\"showlegend\":true,\"textposition\":\"auto\",\"x\":[\"SD\",\"HD\",\"FHD\",\"QHD\",\"UHD\"],\"xaxis\":\"x\",\"y\":[88.814,188.998,481.81,725.344,1522.92],\"yaxis\":\"y\",\"type\":\"bar\"},{\"alignmentgroup\":\"True\",\"error_y\":{\"array\":[50.139,81.308,259.685,29.276,30.117]},\"hovertemplate\":\"reader-gds=GPU-OFF\\u003cbr\\u003eresolution=%{x}\\u003cbr\\u003eelapsed time (sec)=%{y}\\u003cextra\\u003e\\u003c\\u002fextra\\u003e\",\"legendgroup\":\"GPU-OFF\",\"marker\":{\"color\":\"#EF553B\",\"pattern\":{\"shape\":\"\"}},\"name\":\"GPU-OFF\",\"offsetgroup\":\"GPU-OFF\",\"orientation\":\"v\",\"showlegend\":true,\"textposition\":\"auto\",\"x\":[\"SD\",\"HD\",\"FHD\",\"QHD\",\"UHD\"],\"xaxis\":\"x\",\"y\":[175.568,193.726,663.704,1512.406,2032.534],\"yaxis\":\"y\",\"type\":\"bar\"},{\"alignmentgroup\":\"True\",\"error_y\":{\"array\":[6.835,15.698,8.911,110.68,122.444]},\"hovertemplate\":\"reader-gds=GPU-ON\\u003cbr\\u003eresolution=%{x}\\u003cbr\\u003eelapsed time (sec)=%{y}\\u003cextra\\u003e\\u003c\\u002fextra\\u003e\",\"legendgroup\":\"GPU-ON\",\"marker\":{\"color\":\"#00cc96\",\"pattern\":{\"shape\":\"\"}},\"name\":\"GPU-ON\",\"offsetgroup\":\"GPU-ON\",\"orientation\":\"v\",\"showlegend\":true,\"textposition\":\"auto\",\"x\":[\"SD\",\"HD\",\"FHD\",\"QHD\",\"UHD\"],\"xaxis\":\"x\",\"y\":[262.49,323.544,540.12,815.474,1444.744],\"yaxis\":\"y\",\"type\":\"bar\"}],                        {\"template\":{\"data\":{\"histogram2dcontour\":[{\"type\":\"histogram2dcontour\",\"colorbar\":{\"outlinewidth\":0,\"ticks\":\"\"},\"colorscale\":[[0.0,\"#0d0887\"],[0.1111111111111111,\"#46039f\"],[0.2222222222222222,\"#7201a8\"],[0.3333333333333333,\"#9c179e\"],[0.4444444444444444,\"#bd3786\"],[0.5555555555555556,\"#d8576b\"],[0.6666666666666666,\"#ed7953\"],[0.7777777777777778,\"#fb9f3a\"],[0.8888888888888888,\"#fdca26\"],[1.0,\"#f0f921\"]]}],\"choropleth\":[{\"type\":\"choropleth\",\"colorbar\":{\"outlinewidth\":0,\"ticks\":\"\"}}],\"histogram2d\":[{\"type\":\"histogram2d\",\"colorbar\":{\"outlinewidth\":0,\"ticks\":\"\"},\"colorscale\":[[0.0,\"#0d0887\"],[0.1111111111111111,\"#46039f\"],[0.2222222222222222,\"#7201a8\"],[0.3333333333333333,\"#9c179e\"],[0.4444444444444444,\"#bd3786\"],[0.5555555555555556,\"#d8576b\"],[0.6666666666666666,\"#ed7953\"],[0.7777777777777778,\"#fb9f3a\"],[0.8888888888888888,\"#fdca26\"],[1.0,\"#f0f921\"]]}],\"heatmap\":[{\"type\":\"heatmap\",\"colorbar\":{\"outlinewidth\":0,\"ticks\":\"\"},\"colorscale\":[[0.0,\"#0d0887\"],[0.1111111111111111,\"#46039f\"],[0.2222222222222222,\"#7201a8\"],[0.3333333333333333,\"#9c179e\"],[0.4444444444444444,\"#bd3786\"],[0.5555555555555556,\"#d8576b\"],[0.6666666666666666,\"#ed7953\"],[0.7777777777777778,\"#fb9f3a\"],[0.8888888888888888,\"#fdca26\"],[1.0,\"#f0f921\"]]}],\"heatmapgl\":[{\"type\":\"heatmapgl\",\"colorbar\":{\"outlinewidth\":0,\"ticks\":\"\"},\"colorscale\":[[0.0,\"#0d0887\"],[0.1111111111111111,\"#46039f\"],[0.2222222222222222,\"#7201a8\"],[0.3333333333333333,\"#9c179e\"],[0.4444444444444444,\"#bd3786\"],[0.5555555555555556,\"#d8576b\"],[0.6666666666666666,\"#ed7953\"],[0.7777777777777778,\"#fb9f3a\"],[0.8888888888888888,\"#fdca26\"],[1.0,\"#f0f921\"]]}],\"contourcarpet\":[{\"type\":\"contourcarpet\",\"colorbar\":{\"outlinewidth\":0,\"ticks\":\"\"}}],\"contour\":[{\"type\":\"contour\",\"colorbar\":{\"outlinewidth\":0,\"ticks\":\"\"},\"colorscale\":[[0.0,\"#0d0887\"],[0.1111111111111111,\"#46039f\"],[0.2222222222222222,\"#7201a8\"],[0.3333333333333333,\"#9c179e\"],[0.4444444444444444,\"#bd3786\"],[0.5555555555555556,\"#d8576b\"],[0.6666666666666666,\"#ed7953\"],[0.7777777777777778,\"#fb9f3a\"],[0.8888888888888888,\"#fdca26\"],[1.0,\"#f0f921\"]]}],\"surface\":[{\"type\":\"surface\",\"colorbar\":{\"outlinewidth\":0,\"ticks\":\"\"},\"colorscale\":[[0.0,\"#0d0887\"],[0.1111111111111111,\"#46039f\"],[0.2222222222222222,\"#7201a8\"],[0.3333333333333333,\"#9c179e\"],[0.4444444444444444,\"#bd3786\"],[0.5555555555555556,\"#d8576b\"],[0.6666666666666666,\"#ed7953\"],[0.7777777777777778,\"#fb9f3a\"],[0.8888888888888888,\"#fdca26\"],[1.0,\"#f0f921\"]]}],\"mesh3d\":[{\"type\":\"mesh3d\",\"colorbar\":{\"outlinewidth\":0,\"ticks\":\"\"}}],\"scatter\":[{\"fillpattern\":{\"fillmode\":\"overlay\",\"size\":10,\"solidity\":0.2},\"type\":\"scatter\"}],\"parcoords\":[{\"type\":\"parcoords\",\"line\":{\"colorbar\":{\"outlinewidth\":0,\"ticks\":\"\"}}}],\"scatterpolargl\":[{\"type\":\"scatterpolargl\",\"marker\":{\"colorbar\":{\"outlinewidth\":0,\"ticks\":\"\"}}}],\"bar\":[{\"error_x\":{\"color\":\"#2a3f5f\"},\"error_y\":{\"color\":\"#2a3f5f\"},\"marker\":{\"line\":{\"color\":\"#E5ECF6\",\"width\":0.5},\"pattern\":{\"fillmode\":\"overlay\",\"size\":10,\"solidity\":0.2}},\"type\":\"bar\"}],\"scattergeo\":[{\"type\":\"scattergeo\",\"marker\":{\"colorbar\":{\"outlinewidth\":0,\"ticks\":\"\"}}}],\"scatterpolar\":[{\"type\":\"scatterpolar\",\"marker\":{\"colorbar\":{\"outlinewidth\":0,\"ticks\":\"\"}}}],\"histogram\":[{\"marker\":{\"pattern\":{\"fillmode\":\"overlay\",\"size\":10,\"solidity\":0.2}},\"type\":\"histogram\"}],\"scattergl\":[{\"type\":\"scattergl\",\"marker\":{\"colorbar\":{\"outlinewidth\":0,\"ticks\":\"\"}}}],\"scatter3d\":[{\"type\":\"scatter3d\",\"line\":{\"colorbar\":{\"outlinewidth\":0,\"ticks\":\"\"}},\"marker\":{\"colorbar\":{\"outlinewidth\":0,\"ticks\":\"\"}}}],\"scattermapbox\":[{\"type\":\"scattermapbox\",\"marker\":{\"colorbar\":{\"outlinewidth\":0,\"ticks\":\"\"}}}],\"scatterternary\":[{\"type\":\"scatterternary\",\"marker\":{\"colorbar\":{\"outlinewidth\":0,\"ticks\":\"\"}}}],\"scattercarpet\":[{\"type\":\"scattercarpet\",\"marker\":{\"colorbar\":{\"outlinewidth\":0,\"ticks\":\"\"}}}],\"carpet\":[{\"aaxis\":{\"endlinecolor\":\"#2a3f5f\",\"gridcolor\":\"white\",\"linecolor\":\"white\",\"minorgridcolor\":\"white\",\"startlinecolor\":\"#2a3f5f\"},\"baxis\":{\"endlinecolor\":\"#2a3f5f\",\"gridcolor\":\"white\",\"linecolor\":\"white\",\"minorgridcolor\":\"white\",\"startlinecolor\":\"#2a3f5f\"},\"type\":\"carpet\"}],\"table\":[{\"cells\":{\"fill\":{\"color\":\"#EBF0F8\"},\"line\":{\"color\":\"white\"}},\"header\":{\"fill\":{\"color\":\"#C8D4E3\"},\"line\":{\"color\":\"white\"}},\"type\":\"table\"}],\"barpolar\":[{\"marker\":{\"line\":{\"color\":\"#E5ECF6\",\"width\":0.5},\"pattern\":{\"fillmode\":\"overlay\",\"size\":10,\"solidity\":0.2}},\"type\":\"barpolar\"}],\"pie\":[{\"automargin\":true,\"type\":\"pie\"}]},\"layout\":{\"autotypenumbers\":\"strict\",\"colorway\":[\"#636efa\",\"#EF553B\",\"#00cc96\",\"#ab63fa\",\"#FFA15A\",\"#19d3f3\",\"#FF6692\",\"#B6E880\",\"#FF97FF\",\"#FECB52\"],\"font\":{\"color\":\"#2a3f5f\"},\"hovermode\":\"closest\",\"hoverlabel\":{\"align\":\"left\"},\"paper_bgcolor\":\"white\",\"plot_bgcolor\":\"#E5ECF6\",\"polar\":{\"bgcolor\":\"#E5ECF6\",\"angularaxis\":{\"gridcolor\":\"white\",\"linecolor\":\"white\",\"ticks\":\"\"},\"radialaxis\":{\"gridcolor\":\"white\",\"linecolor\":\"white\",\"ticks\":\"\"}},\"ternary\":{\"bgcolor\":\"#E5ECF6\",\"aaxis\":{\"gridcolor\":\"white\",\"linecolor\":\"white\",\"ticks\":\"\"},\"baxis\":{\"gridcolor\":\"white\",\"linecolor\":\"white\",\"ticks\":\"\"},\"caxis\":{\"gridcolor\":\"white\",\"linecolor\":\"white\",\"ticks\":\"\"}},\"coloraxis\":{\"colorbar\":{\"outlinewidth\":0,\"ticks\":\"\"}},\"colorscale\":{\"sequential\":[[0.0,\"#0d0887\"],[0.1111111111111111,\"#46039f\"],[0.2222222222222222,\"#7201a8\"],[0.3333333333333333,\"#9c179e\"],[0.4444444444444444,\"#bd3786\"],[0.5555555555555556,\"#d8576b\"],[0.6666666666666666,\"#ed7953\"],[0.7777777777777778,\"#fb9f3a\"],[0.8888888888888888,\"#fdca26\"],[1.0,\"#f0f921\"]],\"sequentialminus\":[[0.0,\"#0d0887\"],[0.1111111111111111,\"#46039f\"],[0.2222222222222222,\"#7201a8\"],[0.3333333333333333,\"#9c179e\"],[0.4444444444444444,\"#bd3786\"],[0.5555555555555556,\"#d8576b\"],[0.6666666666666666,\"#ed7953\"],[0.7777777777777778,\"#fb9f3a\"],[0.8888888888888888,\"#fdca26\"],[1.0,\"#f0f921\"]],\"diverging\":[[0,\"#8e0152\"],[0.1,\"#c51b7d\"],[0.2,\"#de77ae\"],[0.3,\"#f1b6da\"],[0.4,\"#fde0ef\"],[0.5,\"#f7f7f7\"],[0.6,\"#e6f5d0\"],[0.7,\"#b8e186\"],[0.8,\"#7fbc41\"],[0.9,\"#4d9221\"],[1,\"#276419\"]]},\"xaxis\":{\"gridcolor\":\"white\",\"linecolor\":\"white\",\"ticks\":\"\",\"title\":{\"standoff\":15},\"zerolinecolor\":\"white\",\"automargin\":true,\"zerolinewidth\":2},\"yaxis\":{\"gridcolor\":\"white\",\"linecolor\":\"white\",\"ticks\":\"\",\"title\":{\"standoff\":15},\"zerolinecolor\":\"white\",\"automargin\":true,\"zerolinewidth\":2},\"scene\":{\"xaxis\":{\"backgroundcolor\":\"#E5ECF6\",\"gridcolor\":\"white\",\"linecolor\":\"white\",\"showbackground\":true,\"ticks\":\"\",\"zerolinecolor\":\"white\",\"gridwidth\":2},\"yaxis\":{\"backgroundcolor\":\"#E5ECF6\",\"gridcolor\":\"white\",\"linecolor\":\"white\",\"showbackground\":true,\"ticks\":\"\",\"zerolinecolor\":\"white\",\"gridwidth\":2},\"zaxis\":{\"backgroundcolor\":\"#E5ECF6\",\"gridcolor\":\"white\",\"linecolor\":\"white\",\"showbackground\":true,\"ticks\":\"\",\"zerolinecolor\":\"white\",\"gridwidth\":2}},\"shapedefaults\":{\"line\":{\"color\":\"#2a3f5f\"}},\"annotationdefaults\":{\"arrowcolor\":\"#2a3f5f\",\"arrowhead\":0,\"arrowwidth\":1},\"geo\":{\"bgcolor\":\"white\",\"landcolor\":\"#E5ECF6\",\"subunitcolor\":\"white\",\"showland\":true,\"showlakes\":true,\"lakecolor\":\"white\"},\"title\":{\"x\":0.05},\"mapbox\":{\"style\":\"light\"}}},\"xaxis\":{\"anchor\":\"y\",\"domain\":[0.0,1.0],\"title\":{\"text\":\"resolution\"}},\"yaxis\":{\"anchor\":\"x\",\"domain\":[0.0,1.0],\"title\":{\"text\":\"elapsed time (sec)\"}},\"legend\":{\"title\":{\"text\":\"reader-gds\"},\"tracegroupgap\":0},\"margin\":{\"t\":60},\"barmode\":\"group\"},                        {\"responsive\": true}                    ).then(function(){\n",
       "                            \n",
       "var gd = document.getElementById('32e78964-fe9a-4776-a3ff-42d572cf304f');\n",
       "var x = new MutationObserver(function (mutations, observer) {{\n",
       "        var display = window.getComputedStyle(gd).display;\n",
       "        if (!display || display === 'none') {{\n",
       "            console.log([gd, 'removed!']);\n",
       "            Plotly.purge(gd);\n",
       "            observer.disconnect();\n",
       "        }}\n",
       "}});\n",
       "\n",
       "// Listen for the removal of the full notebook cells\n",
       "var notebookContainer = gd.closest('#notebook-container');\n",
       "if (notebookContainer) {{\n",
       "    x.observe(notebookContainer, {childList: true});\n",
       "}}\n",
       "\n",
       "// Listen for the clearing of the current output cell\n",
       "var outputEl = gd.closest('.output');\n",
       "if (outputEl) {{\n",
       "    x.observe(outputEl, {childList: true});\n",
       "}}\n",
       "\n",
       "                        })                };                });            </script>        </div>"
      ]
     },
     "metadata": {},
     "output_type": "display_data"
    }
   ],
   "source": [
    "df[\"combined\"] = df[\"reader\"] + \"-\" + df[\"gds\"]\n",
    "\n",
    "fig = px.bar(\n",
    "    df,\n",
    "    x=\"resolution\",\n",
    "    y=\"mean\",\n",
    "    color=\"combined\",\n",
    "    barmode=\"group\",\n",
    "    error_y=\"standard_deviation\",\n",
    "    labels={\"mean\": \"elapsed time (sec)\", \"combined\": \"reader-gds\"},\n",
    ")\n",
    "fig.show()"
   ]
  }
 ],
 "metadata": {
  "kernelspec": {
   "display_name": "Python 3",
   "language": "python",
   "name": "python3"
  },
  "language_info": {
   "codemirror_mode": {
    "name": "ipython",
    "version": 3
   },
   "file_extension": ".py",
   "mimetype": "text/x-python",
   "name": "python",
   "nbconvert_exporter": "python",
   "pygments_lexer": "ipython3",
   "version": "3.10.12"
  }
 },
 "nbformat": 4,
 "nbformat_minor": 2
}
