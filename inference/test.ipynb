{
 "cells": [
  {
   "cell_type": "code",
   "execution_count": 8,
   "metadata": {},
   "outputs": [],
   "source": [
    "from PIL import Image\n",
    "from datasets import load_dataset\n",
    "from transformers import AutoImageProcessor, AutoModelForImageClassification"
   ]
  },
  {
   "cell_type": "code",
   "execution_count": 9,
   "metadata": {},
   "outputs": [],
   "source": [
    "model = {}"
   ]
  },
  {
   "cell_type": "code",
   "execution_count": 10,
   "metadata": {},
   "outputs": [],
   "source": [
    "# dataset = load_dataset(\"huggingface/cats-image\")\n",
    "# image = dataset[\"test\"][\"image\"][0]\n",
    "image = Image.open(\"images/test.png\")"
   ]
  },
  {
   "cell_type": "code",
   "execution_count": 12,
   "metadata": {},
   "outputs": [
    {
     "name": "stderr",
     "output_type": "stream",
     "text": [
      "Could not find image processor class in the image processor config or the model config. Loading based on pattern matching with the model's feature extractor configuration.\n"
     ]
    }
   ],
   "source": [
    "model_path = \"/home/jsh/volume/pretrained-models/resnet-50\"\n",
    "model[\"image_processor\"] = AutoImageProcessor.from_pretrained(model_path)\n",
    "model[\"model\"] = AutoModelForImageClassification.from_pretrained(\n",
    "        model_path,\n",
    "        device_map=\"cuda:7\",\n",
    "        trust_remote_code=True,\n",
    "    )"
   ]
  },
  {
   "cell_type": "code",
   "execution_count": 13,
   "metadata": {},
   "outputs": [
    {
     "data": {
      "text/plain": [
       "'tiger cat'"
      ]
     },
     "execution_count": 13,
     "metadata": {},
     "output_type": "execute_result"
    }
   ],
   "source": [
    "inputs = model[\"image_processor\"](image, return_tensors=\"pt\").to(\"cuda:7\")\n",
    "outputs = model[\"model\"](**inputs)\n",
    "predicted_label = outputs.logits.argmax(-1).item()\n",
    "model[\"model\"].config.id2label[predicted_label]"
   ]
  },
  {
   "cell_type": "code",
   "execution_count": 1,
   "metadata": {},
   "outputs": [],
   "source": [
    "import requests\n",
    "from glob import glob"
   ]
  },
  {
   "cell_type": "code",
   "execution_count": 4,
   "metadata": {},
   "outputs": [
    {
     "name": "stdout",
     "output_type": "stream",
     "text": [
      "{'label': 'killer whale, killer, orca, grampus, sea wolf, Orcinus orca', 'elapsed_time': 0.0474393367767334, 'used_memory': 0.423828125}\n",
      "{'label': 'king crab, Alaska crab, Alaskan king crab, Alaska king crab, Paralithodes camtschatica', 'elapsed_time': 0.03560280799865723, 'used_memory': 0.423828125}\n",
      "{'label': 'albatross, mollymawk', 'elapsed_time': 0.025527000427246094, 'used_memory': 0.423828125}\n",
      "{'label': 'king penguin, Aptenodytes patagonica', 'elapsed_time': 0.028779029846191406, 'used_memory': 0.423828125}\n",
      "{'label': 'tiger cat', 'elapsed_time': 0.03552675247192383, 'used_memory': 0.423828125}\n"
     ]
    }
   ],
   "source": [
    "for img in glob(\"images/*\"):\n",
    "    with open(img, \"rb\") as f:\n",
    "        res = requests.post(f\"http://127.0.0.1:1047/infer\", files={\"file\": f})\n",
    "        print(res.json())"
   ]
  }
 ],
 "metadata": {
  "kernelspec": {
   "display_name": "Python 3",
   "language": "python",
   "name": "python3"
  },
  "language_info": {
   "codemirror_mode": {
    "name": "ipython",
    "version": 3
   },
   "file_extension": ".py",
   "mimetype": "text/x-python",
   "name": "python",
   "nbconvert_exporter": "python",
   "pygments_lexer": "ipython3",
   "version": "3.10.12"
  }
 },
 "nbformat": 4,
 "nbformat_minor": 2
}
