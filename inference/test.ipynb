{
 "cells": [
  {
   "cell_type": "code",
   "execution_count": 5,
   "metadata": {},
   "outputs": [
    {
     "name": "stderr",
     "output_type": "stream",
     "text": [
      "/home/jsh/.local/lib/python3.10/site-packages/tqdm/auto.py:21: TqdmWarning: IProgress not found. Please update jupyter and ipywidgets. See https://ipywidgets.readthedocs.io/en/stable/user_install.html\n",
      "  from .autonotebook import tqdm as notebook_tqdm\n"
     ]
    }
   ],
   "source": [
    "import torch\n",
    "\n",
    "from PIL import Image\n",
    "from datasets import load_dataset\n",
    "from transformers import AutoImageProcessor, AutoModelForImageClassification"
   ]
  },
  {
   "cell_type": "code",
   "execution_count": 6,
   "metadata": {},
   "outputs": [],
   "source": [
    "model = {}"
   ]
  },
  {
   "cell_type": "code",
   "execution_count": 7,
   "metadata": {},
   "outputs": [],
   "source": [
    "# dataset = load_dataset(\"huggingface/cats-image\")\n",
    "# image = dataset[\"test\"][\"image\"][0]\n",
    "image = Image.open(\"images/tiger_cat.png\")"
   ]
  },
  {
   "cell_type": "code",
   "execution_count": 8,
   "metadata": {},
   "outputs": [
    {
     "name": "stderr",
     "output_type": "stream",
     "text": [
      "Could not find image processor class in the image processor config or the model config. Loading based on pattern matching with the model's feature extractor configuration.\n"
     ]
    }
   ],
   "source": [
    "model_path = \"/home/jsh/volume/pretrained-models/resnet-50\"\n",
    "model[\"image_processor\"] = AutoImageProcessor.from_pretrained(model_path)\n",
    "model[\"model\"] = AutoModelForImageClassification.from_pretrained(\n",
    "        model_path,\n",
    "        device_map=\"cuda:7\",\n",
    "        torch_dtype=torch.float16,\n",
    "        trust_remote_code=True,\n",
    "    )"
   ]
  },
  {
   "cell_type": "code",
   "execution_count": 19,
   "metadata": {},
   "outputs": [
    {
     "name": "stderr",
     "output_type": "stream",
     "text": [
      "/home/jsh/.local/lib/python3.10/site-packages/torch/nn/modules/conv.py:459: UserWarning: Applied workaround for CuDNN issue, install nvrtc.so (Triggered internally at ../aten/src/ATen/native/cudnn/Conv_v8.cpp:80.)\n",
      "  return F.conv2d(input, weight, bias, self.stride,\n"
     ]
    },
    {
     "data": {
      "text/plain": [
       "'tiger cat'"
      ]
     },
     "execution_count": 19,
     "metadata": {},
     "output_type": "execute_result"
    }
   ],
   "source": [
    "inputs = model[\"image_processor\"](image, return_tensors=\"pt\").to(\"cuda:7\")\n",
    "inputs = {key: value.half() for key, value in inputs.items()}\n",
    "outputs = model[\"model\"](**inputs)\n",
    "predicted_label = outputs.logits.argmax(-1).item()\n",
    "model[\"model\"].config.id2label[predicted_label]"
   ]
  },
  {
   "cell_type": "code",
   "execution_count": 20,
   "metadata": {},
   "outputs": [],
   "source": [
    "import requests\n",
    "from glob import glob"
   ]
  },
  {
   "cell_type": "code",
   "execution_count": 21,
   "metadata": {},
   "outputs": [
    {
     "name": "stdout",
     "output_type": "stream",
     "text": [
      "{'label': 'killer whale, killer, orca, grampus, sea wolf, Orcinus orca', 'elapsed_time': 0.7340381145477295, 'used_memory': 0.22265625}\n",
      "{'label': 'king crab, Alaska crab, Alaskan king crab, Alaska king crab, Paralithodes camtschatica', 'elapsed_time': 0.02501678466796875, 'used_memory': 0.34765625}\n",
      "{'label': 'albatross, mollymawk', 'elapsed_time': 0.02510833740234375, 'used_memory': 0.34765625}\n",
      "{'label': 'king penguin, Aptenodytes patagonica', 'elapsed_time': 0.028003692626953125, 'used_memory': 0.34765625}\n",
      "{'label': 'tiger cat', 'elapsed_time': 0.04780697822570801, 'used_memory': 0.34765625}\n"
     ]
    }
   ],
   "source": [
    "for img in glob(\"images/*\"):\n",
    "    with open(img, \"rb\") as f:\n",
    "        res = requests.post(f\"http://127.0.0.1:1047/infer\", files={\"file\": f})\n",
    "        print(res.json())"
   ]
  }
 ],
 "metadata": {
  "kernelspec": {
   "display_name": "Python 3",
   "language": "python",
   "name": "python3"
  },
  "language_info": {
   "codemirror_mode": {
    "name": "ipython",
    "version": 3
   },
   "file_extension": ".py",
   "mimetype": "text/x-python",
   "name": "python",
   "nbconvert_exporter": "python",
   "pygments_lexer": "ipython3",
   "version": "3.10.12"
  }
 },
 "nbformat": 4,
 "nbformat_minor": 2
}
